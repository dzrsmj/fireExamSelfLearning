{
 "cells": [
  {
   "cell_type": "markdown",
   "id": "2fe1c49f-3efd-431a-85cc-d58ee6c34b0a",
   "metadata": {},
   "source": [
    "# 第二篇\n",
    "1. 建筑的火灾危险性分类\n",
    "    1. [生产火灾危险性分类及列举表（表2-2-1 掌握注释内容）](生产火灾危险性分类.md)\n",
    "    2. 不按物质火灾危险特性确定生产火灾危险性类别的最大允许量表（表2-2-2，甲类12）\n",
    "    3. 储存物品的火灾危险性分类及举例表（表2-2-3 掌握注释内容）\n",
    "    4. 典型场所的火灾危险性风险\n",
    "2. 建筑分类和耐火等级\n",
    "    1. 民用建筑的分类\n",
    "    2. 建筑高度的检查内容\n",
    "    3. 建筑材料燃烧性能等级的附加信息和标识\n",
    "    4. 影响耐火极限的要素\n",
    "    5. 厂房和仓库、民用建筑的耐火等级表（表2-3-7和表2-3-8）"
   ]
  },
  {
   "cell_type": "markdown",
   "id": "b88a1b2c-aa44-48e9-9859-b3952f10918a",
   "metadata": {},
   "source": []
  },
  {
   "cell_type": "code",
   "execution_count": null,
   "id": "0b02f909-8c6b-4b4f-8138-504db1304fa1",
   "metadata": {},
   "outputs": [],
   "source": []
  }
 ],
 "metadata": {
  "kernelspec": {
   "display_name": "Python 3 (ipykernel)",
   "language": "python",
   "name": "python3"
  },
  "language_info": {
   "codemirror_mode": {
    "name": "ipython",
    "version": 3
   },
   "file_extension": ".py",
   "mimetype": "text/x-python",
   "name": "python",
   "nbconvert_exporter": "python",
   "pygments_lexer": "ipython3",
   "version": "3.9.13"
  }
 },
 "nbformat": 4,
 "nbformat_minor": 5
}
