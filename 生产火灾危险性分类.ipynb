{
 "cells": [
  {
   "cell_type": "markdown",
   "id": "15b90145-f428-47fc-9d3d-b7c7b05fbbb6",
   "metadata": {},
   "source": [
    "# 火灾危险性分类\n",
    "|生产类别|危险性特征|举例|\n",
    "|------|------|------------|\n",
    "|甲类1项|闪点小于28°C的液体**药、酒**|闪点小于28°C的油品和有机溶剂的提炼、回收或洗涤部位及泵房，**橡胶制品的涂胶和胶浆部位**，二硫化碳的粗馏、精馏工段及其应用部位，**青霉素的提炼部位**，皂素车间的抽提、结晶及过滤部位，冰片的精致部位，农药厂乐果厂房，敌敌畏合成厂房，磺化法糖精长发，**氯乙醇厂房**，环氧己烷，环氧丙烷工段，**苯酚厂房**的硫化、蒸馏部位，**焦化厂吡啶工段**，胶片厂片基车间，**汽油加铅室**，**甲醇、乙醇、丙酮、丁酮异丙醇、醋酸乙酯、苯**等的合成或精制厂房，集成电路工厂的化学清洗间（**使用闪点小于28°C的液体**），**植物油加工厂的浸出车间**，白酒液态法酿酒车间、酒精蒸馏塔，**酒精度为38度及以上**的勾兑车间、灌装车间、酒泵房，**白兰地**蒸馏车间、勾兑车间、灌装车间、酒泵房|\n",
    "|甲类2项|爆炸下限小于10%的气体|<span style=\"color:red\">**乙炔站，氢气站**,</span>石油气体分馏（或分离）厂房，氯乙烯厂房，乙烯聚合厂房，<span style=\"color:red\">**天然气、石油伴生气、矿井气、水煤气或焦炉煤气的净化**</span>（如脱酸）厂房压缩机室及鼓风机室，<span style=\"color:red\">**液化石油气罐瓶间，**</span>丁二烯及其聚合厂房，醋酸乙烯厂房，电解水或电解食盐厂房，环己酮厂房，已基苯和苯乙烯厂房，化肥厂的氢氮气压缩厂房，半导体材料厂使用氢气的拉晶间，硅烷热分解室|\n",
    "|甲类3项|常温下能自行分解或在空气中氧化即能导致迅速自燃或爆炸的物质|<span style=\"color:red\">**硝化棉**</span>厂房及其应用部位，<span style=\"color:red\">**赛璐珞**</span>厂房，<span style=\"color:red\">**黄磷**</span>制备厂房及其应用部位，三乙基铝厂房，染化厂某些能自行分解的重氮化合物生产，甲胺厂房，丙烯晴|\n",
    "|甲类4项|常温下受到水或空气中水蒸气的作用，能产生可燃气体并引起燃烧或爆炸的物质|<span style=\"color:red\">**金属钠、钾**</span>加工房及其应用部位，聚乙烯厂房的一氧二乙基铝部位、三氯化磷厂房，多晶硅车间三氯氢硅部位，<span style=\"color:red\">**五氧化二磷**</span>厂房|\n",
    "|甲类5项|遇酸、受热、撞击、摩擦、催化以及遇有机物或硫黄等易燃的无机物，极易引起燃烧或爆炸的强氧化剂|<span style=\"color:red\">**氯酸钠、氯酸钾**</span>厂房及其应用部位，过氧化氢厂房，<span style=\"color:red\">**过氧化钠、过氧化钾**</span>厂房、次氯酸钙厂房|\n",
    "|甲类6项|受撞击、摩擦或与氧化剂、有机物接触时能引起燃烧或爆炸的物质|<span style=\"color:red\">**赤磷**</span>制备厂房及其应用部位，五硫化二磷厂房及其应用部位|\n",
    "|甲类7项|在密闭设备内操作温度不小于物质本身自燃点的生产|洗涤剂厂房<span style=\"color:red\">**石蜡裂解**</span>部位，<span style=\"color:red\">**冰醋酸裂解**</span>厂房|"
   ]
  },
  {
   "cell_type": "code",
   "execution_count": null,
   "id": "a9e61d4d-aa3b-48a9-ab04-43b5eb41fbc2",
   "metadata": {},
   "outputs": [],
   "source": []
  },
  {
   "cell_type": "code",
   "execution_count": null,
   "id": "da1775d9-e22d-4099-850d-a774667c0fda",
   "metadata": {},
   "outputs": [],
   "source": []
  }
 ],
 "metadata": {
  "kernelspec": {
   "display_name": "Python 3 (ipykernel)",
   "language": "python",
   "name": "python3"
  },
  "language_info": {
   "codemirror_mode": {
    "name": "ipython",
    "version": 3
   },
   "file_extension": ".py",
   "mimetype": "text/x-python",
   "name": "python",
   "nbconvert_exporter": "python",
   "pygments_lexer": "ipython3",
   "version": "3.9.13"
  }
 },
 "nbformat": 4,
 "nbformat_minor": 5
}
