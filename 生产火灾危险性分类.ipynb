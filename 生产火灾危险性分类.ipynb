{
 "cells": [
  {
   "cell_type": "markdown",
   "id": "15b90145-f428-47fc-9d3d-b7c7b05fbbb6",
   "metadata": {},
   "source": [
    "# 火灾危险性分类\n",
    "|生产类别|危险性特征|举例|\n",
    "|------|------|------------|\n",
    "|甲类1项|闪点小于28°C的液体**药、酒**|闪点小于28°C的油品和有机溶剂的提炼、回收或洗涤部位及泵房，<span style=\"color:red\">**橡胶制品的涂胶和胶浆部位**</span>，二硫化碳的粗馏、精馏工段及其应用部位，<span style=\"color:red\">**青霉素的提炼部位**</span>，皂素车间的抽提、结晶及过滤部位，冰片的精致部位，农药厂乐果厂房，敌敌畏合成厂房，磺化法糖精厂房，<span style=\"color:red\">**氯乙醇厂房**</span>，环氧己烷，环氧丙烷工段，<span style=\"color:red\">**苯酚厂房**</span>的硫化、蒸馏部位，<span style=\"color:red\">**焦化厂吡啶工段**</span>，胶片厂片基车间，<span style=\"color:red\">**汽油加铅室**</span>，<span style=\"color:red\">**甲醇、乙醇、丙酮、丁酮异丙醇、醋酸乙酯、苯**</span>等的合成或精制厂房，<span style=\"color:red\">**集成电路工厂的化学清洗间**</span>（**使用闪点小于28°C的液体**），<span style=\"color:red\">**植物油加工厂的浸出车间**</span>，白酒液态法酿酒车间、酒精蒸馏塔，<span style=\"color:red\">**酒精度为38度及以上**</span>的勾兑车间、灌装车间、酒泵房，<span style=\"color:red\">**白兰地**</span>蒸馏车间、勾兑车间、灌装车间、酒泵房|\n",
    "|甲类2项|爆炸下限小于10%的气体|<span style=\"color:red\">**乙炔站，氢气站**,</span>石油气体分馏（或分离）厂房，氯乙烯厂房，乙烯聚合厂房，<span style=\"color:red\">**天然气、石油伴生气、矿井气、水煤气或焦炉煤气的净化**</span>（如脱酸）厂房压缩机室及鼓风机室，<span style=\"color:red\">**液化石油气罐瓶间，**</span>丁二烯及其聚合厂房，醋酸乙烯厂房，电解水或电解食盐厂房，环己酮厂房，已基苯和苯乙烯厂房，化肥厂的氢氮气压缩厂房，半导体材料厂使用氢气的拉晶间，硅烷热分解室|\n",
    "|甲类3项|常温下能自行分解或在空气中氧化即能导致迅速自燃或爆炸的物质|<span style=\"color:red\">**硝化棉**</span>厂房及其应用部位，<span style=\"color:red\">**赛璐珞**</span>厂房，<span style=\"color:red\">**黄磷**</span>制备厂房及其应用部位，三乙基铝厂房，染化厂某些能自行分解的重氮化合物生产，甲胺厂房，丙烯腈|\n",
    "|甲类4项|常温下受到水或空气中水蒸气的作用，能产生可燃气体并引起燃烧或爆炸的物质|<span style=\"color:red\">**金属钠、钾**</span>加工房及其应用部位，聚乙烯厂房的一氧二乙基铝部位、三氯化磷厂房，多晶硅车间三氯氢硅部位，<span style=\"color:red\">**五氧化二磷**</span>厂房|\n",
    "|甲类5项|遇酸、受热、撞击、摩擦、催化以及遇有机物或硫黄等易燃的无机物，极易引起燃烧或爆炸的强氧化剂|<span style=\"color:red\">**氯酸钠、氯酸钾**</span>厂房及其应用部位，过氧化氢厂房，<span style=\"color:red\">**过氧化钠、过氧化钾**</span>厂房、次氯酸钙厂房|\n",
    "|甲类6项|受撞击、摩擦或与氧化剂、有机物接触时能引起燃烧或爆炸的物质|<span style=\"color:red\">**赤磷**</span>制备厂房及其应用部位，五硫化二磷厂房及其应用部位|\n",
    "|甲类7项|在密闭设备内操作温度不小于物质本身自燃点的生产|洗涤剂厂房<span style=\"color:red\">**石蜡裂解**</span>部位，<span style=\"color:red\">**冰醋酸裂解**</span>厂房|"
   ]
  },
  {
   "cell_type": "markdown",
   "id": "fa45f6af-1a0d-4fab-bcdd-1653bff29447",
   "metadata": {},
   "source": [
    "|生产类别|危险性特征|举例|\n",
    "|------|------|------------|\n",
    "|乙类1项|闪点大于或等于 28℃且小于 60℃的液体|闪点大于或等于28℃且小于60℃的油品和有机溶剂的提炼、回收、洗涤部位及其泵房，<span style=\"color:red\">**松节油或松香**</span>蒸馏厂房及其应用部位，醋酸酐精馏厂房，己内酰胺厂房，<span style=\"color:red\">**甲酚厂房，氯丙醇厂房**</span>，<span style=\"color:red\">**樟脑油**</span>提取部位，环氧氯丙烷厂房，<span style=\"color:red\">**松针油**</span>精制部位，<span style=\"color:red\">**煤油灌桶间**</span>|\n",
    "|乙类2项|爆炸下限大于或等于 10%的气体|<span style=\"color:red\">**一氧化碳**</span>压缩机室及净化部位，<span style=\"color:red\">**发生炉煤气或鼓风炉煤气**</span>净化部位，<span style=\"color:red\">**氨压缩机房**</span>|\n",
    "|乙类3项|不属于甲类的氧化剂|发烟硫酸或发烟硝酸浓缩部位，<span style=\"color:red\">**高锰酸钾**</span>厂房，<span style=\"color:red\">**重铬酸钠（红钒钠）**</span>厂房|\n",
    "|乙类4项|不属于甲类的易燃固体|<span style=\"color:red\">**樟脑或松香**</span>提炼厂房，<span style=\"color:red\">**硫磺**</span>回收厂房，<span style=\"color:red\">**焦化厂精萘厂房**</span>|\n",
    "|乙类5项|助燃气体|<span style=\"color:red\">**氧气站，空分厂房**</span>|\n",
    "|乙类6项|能与空气行程爆炸性混合物的浮游状态的粉尘、纤维，闪点大于或等于60°C的液体雾滴|<span style=\"color:red\">**铝粉或镁粉**</span>厂房，<span style=\"color:red\">**金属制品抛光部位**</span>，<span style=\"color:red\">**煤粉厂房**</span>， <span style=\"color:red\">**面粉厂的碾磨部位**</span>、<span style=\"color:red\">**活性炭制造及再生厂房**</span>，<span style=\"color:red\">**谷物筒仓工作塔**</span>，<span style=\"color:red\">**亚麻厂的除尘器和过滤器室**</span>|"
   ]
  },
  {
   "cell_type": "markdown",
   "id": "f47aeff9-4e72-4069-952a-ea3c6bab0e5a",
   "metadata": {},
   "source": [
    "|生产类别|危险性特征|举例|\n",
    "|------|------|------------|\n",
    "|丙类1项|闪点大于或等于 60℃的液体|闪点大于或等于 60℃的油品和有机液体的提炼、回收工段及其抽送泵房，香料厂的松油醇部位和乙醇松油酯部位，<span style=\"color:red\">**苯甲酸厂房**</span>，苯乙酮厂房，<span style=\"color:red\">**焦化厂焦油厂房**</span>，甘油，<span style=\"color:red\">**桐油的制备厂房**</span>，<span style=\"color:red\">**油浸变压器室**</span>，机器油或变压油罐桶间，润滑油再生部位，<span style=\"color:red\">**配电室（每台装油量大于 60kg 的设备）**</span>，<span style=\"color:red\">**沥青**</span>加工厂房，</span>，<span style=\"color:red\">**植物油加工厂的精炼部位**</span>|\n",
    "|丙类2项|可燃固体|煤、焦炭、油母页岩的筛分、转运工段和栈桥或储仓，木工厂房，竹、藤加工厂房，<span style=\"color:red\">**橡胶制品的压延、成型和硫化厂房**</span>， 针织品厂房，纺织、印染、化纤生产的干燥部位， 服装加工厂房， 棉花加工和打包厂房， 造纸厂备料、干燥车间，印染厂成品厂房，麻纺厂粗加工厂房，谷物加工房，卷烟厂的切丝、卷制、包装车间，印刷厂的印刷车间，毛涤厂选毛车间，电视机、收音机装配厂房，显像管厂装配工段烧枪间，磁带装配厂房，<span style=\"color:red\">**集成电路工厂的氧化扩散间**</span>、光刻间，泡沫塑料厂的发泡、成型、印片压花部位，饲料加工厂房，<span style=\"color:red\">**畜（禽）屠宰、分割及加工车间、鱼加工车间**</span>|"
   ]
  },
  {
   "cell_type": "markdown",
   "id": "cc35b082-862b-4695-b3a6-ae012704f837",
   "metadata": {},
   "source": [
    "|生产类别|危险性特征|举例|\n",
    "|------|------|------------|\n",
    "|丁类1项|对不燃烧物质进行加工，并在高温或熔化状态下经常产生强辐射热、火花或火焰的生产|金属冶炼、锻造、铆焊、热轧、铸造、热处理厂房|\n",
    "|丁类2项|利用气体、液体、固体作为燃料或将气体、液体进行燃烧做其他用的各种生产|<span style=\"color:red\">**锅炉房**</span>，玻璃原料熔化厂房，灯丝烧拉部位，保温瓶胆厂房， <span style=\"color:red\">**陶瓷制品的烘干、烧成厂房**</span>，蒸汽机车库，石灰焙烧厂房，电石炉部位，耐火材料烧成部位，转炉厂房，硫酸车间焙烧部位，电极煅烧工段，<span style=\"color:red\">**配电室（每台装油量≤60kg 的设备）**</span>|\n",
    "|丁类3项|常温下使用或加工难燃烧物质的生产|难燃铝塑料材料的加工厂房，<span style=\"color:red\">**酚醛泡沫塑料的加工厂房**</span>，印染厂的漂炼部位，化纤厂后加工润湿部位|"
   ]
  },
  {
   "cell_type": "markdown",
   "id": "d5db09e7-9afb-4dab-a2ef-44797beeb9f9",
   "metadata": {},
   "source": [
    "|生产类别|危险性特征|举例|\n",
    "|------|------|------------|\n",
    "|戊类|常温下使用或加工不燃烧物质的生产|制砖车间、石棉加工车间、卷扬机室、不燃液体的泵房和阀门室、不燃液体的净化处理工段，除镁合金外的金属冷加工车间，电动车库，钙镁磷肥车间（焙烧炉除外），造纸厂或化学纤维厂的<span style=\"color:red\">**浆粕蒸煮工段**</span>，仪表、器械或车辆装配车间、<span style=\"color:red\">**氟利昂厂房**</span>，水泥厂的轮窑厂房，加气混凝土厂的材料准备、构件制造厂房|"
   ]
  },
  {
   "cell_type": "markdown",
   "id": "36c5f6f0-503c-4545-bf39-3ea1a85efd88",
   "metadata": {},
   "source": [
    "## 表格注释\n",
    "1. 同一座厂房或厂房的任一防火分区内有不同火灾危险性生产时，厂房或防火分区内的生产火灾危险性类别应按火灾危险性**较大**的部分确定<br>\n",
    "![按火灾危险性大的判断](image/厂房火灾危险性表格注释01.png)\n",
    "2. 当符合下述条件之一时，可按火灾危险性较小的部分确定：<br>\n",
    "①火灾危险性较大的生产部分占本层或本防火分区建筑面积的<span style=\"color:red\">**比例小于5%**</span>或<span style=\"color:red\">**丁、戊类厂房内的油漆工段小于10%**</span>，且发生火灾事故时不足以蔓延至其他部位或火灾危险性较大的生产部分<span style=\"color:red\">**采取了有效的防火措施**</span>；\n",
    "![火灾危险性较小算01](image/厂房火灾危险性表格注释02.png)<br>\n",
    "②<span style=\"color:red\">**丁、戊**</span>类厂房内的油漆工段，当采用<span style=\"color:red\">**封闭喷漆工艺**</span>，封闭喷漆空间内保持<span style=\"color:red\">**负压**</span>、油漆工段设置<span style=\"color:red\">**可燃气体探测报警系统或自动抑爆系统**</span>，且油漆工段占所在防火分区建筑面积的比例<span style=\"color:red\">**不大于 20%**</span>。\n",
    "![火灾危险性较小算02](image/厂房火灾危险性表格注释03.png)"
   ]
  },
  {
   "cell_type": "code",
   "execution_count": null,
   "id": "9e6dbc68-69da-42a3-8d63-fae7a8be1449",
   "metadata": {},
   "outputs": [],
   "source": []
  }
 ],
 "metadata": {
  "kernelspec": {
   "display_name": "Python 3 (ipykernel)",
   "language": "python",
   "name": "python3"
  },
  "language_info": {
   "codemirror_mode": {
    "name": "ipython",
    "version": 3
   },
   "file_extension": ".py",
   "mimetype": "text/x-python",
   "name": "python",
   "nbconvert_exporter": "python",
   "pygments_lexer": "ipython3",
   "version": "3.9.13"
  }
 },
 "nbformat": 4,
 "nbformat_minor": 5
}
