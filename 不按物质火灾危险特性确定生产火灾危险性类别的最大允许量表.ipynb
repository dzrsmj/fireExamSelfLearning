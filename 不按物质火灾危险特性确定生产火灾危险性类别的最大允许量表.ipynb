{
 "cells": [
  {
   "cell_type": "markdown",
   "id": "cfb2de27-1a17-4764-b14e-d2ce5d512f23",
   "metadata": {},
   "source": [
    "### 厂房内可不按危险物质火灾危险特性确定生产火灾危险性类别的最大允许量\n",
    "在生产过程中，如使用或产生易燃、可燃物质的量较少，不足以构成爆炸或火灾危险时，可以按实际情况确定其火灾危险性的类别。\n",
    "\n",
    "注：可不按物质危险特性确定生产火灾危险性类别的最大允许量\n",
    "![不按物质火灾危险特性确定生产火灾危险性类别的最大允许量表](image/不按物质火灾危险特性确定生产火灾危险性类别的最大允许量表.png)"
   ]
  },
  {
   "cell_type": "code",
   "execution_count": null,
   "id": "0ec5fb5a-82f7-4eb5-9828-6c5a0cd80997",
   "metadata": {},
   "outputs": [],
   "source": []
  }
 ],
 "metadata": {
  "kernelspec": {
   "display_name": "Python 3 (ipykernel)",
   "language": "python",
   "name": "python3"
  },
  "language_info": {
   "codemirror_mode": {
    "name": "ipython",
    "version": 3
   },
   "file_extension": ".py",
   "mimetype": "text/x-python",
   "name": "python",
   "nbconvert_exporter": "python",
   "pygments_lexer": "ipython3",
   "version": "3.9.13"
  }
 },
 "nbformat": 4,
 "nbformat_minor": 5
}
