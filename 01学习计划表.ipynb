{
 "cells": [
  {
   "cell_type": "markdown",
   "id": "f8d6cd7e-1ffa-46e0-b7ef-ff2b51eee990",
   "metadata": {},
   "source": [
    "# 计划列表-**将知识点罗列到项目中**\n",
    "## 第二篇\n",
    "- [ ] 建筑的火灾危险性分类（**3月22日**）<span style=\"color:red\">**</span>\n",
    "- [ ] 建筑分类和耐火等级（**3月29日**）<span style=\"color:red\">**</span>\n",
    "- [ ] 总平面图布局和总平面图布置（**4月7日**）<span style=\"color:red\">***</span>\n",
    "- [ ] 防火防烟分区与分隔（**4月14日**）<span style=\"color:red\">***</span>\n",
    "- [ ] 安全疏散（**4月21日**）<span style=\"color:red\">***</span>\n",
    "- [ ] 建筑电气防火 和 建筑防爆（**4月28日**）\n",
    "\n",
    "## 第三篇\n",
    "- [ ] 消防给水及消火栓系统（**5月5日**）<span style=\"color:red\">***</span>\n",
    "- [ ] 自动喷水灭火系统（**5月15日**）<span style=\"color:red\">***</span>\n",
    "- [ ] 水喷雾和细水雾灭火系统 和 自动跟踪定位射流灭火系统（**5月24日**）\n",
    "- [ ] 气体灭火系统（**5月31日**）<span style=\"color:red\">***</span>\n",
    "- [ ] 泡沫灭火系统 和 干粉灭火系统（**6月7日**）\n",
    "- [ ] 火灾自动报警系统（**6月14日**）<span style=\"color:red\">****</span>\n",
    "- [ ] 防排烟系统 和 消防应急照明和疏散指示系统（**6月21日**）<span style=\"color:red\">**</span>\n",
    "- [ ] 建筑灭火器配置 和 消防供配电（**6月30日**）<span style=\"color:red\">**</span>\n"
   ]
  },
  {
   "cell_type": "code",
   "execution_count": null,
   "id": "3f2083f5-fc79-4c78-9654-11c288e17baa",
   "metadata": {},
   "outputs": [],
   "source": []
  }
 ],
 "metadata": {
  "kernelspec": {
   "display_name": "Python 3 (ipykernel)",
   "language": "python",
   "name": "python3"
  },
  "language_info": {
   "codemirror_mode": {
    "name": "ipython",
    "version": 3
   },
   "file_extension": ".py",
   "mimetype": "text/x-python",
   "name": "python",
   "nbconvert_exporter": "python",
   "pygments_lexer": "ipython3",
   "version": "3.9.13"
  }
 },
 "nbformat": 4,
 "nbformat_minor": 5
}
